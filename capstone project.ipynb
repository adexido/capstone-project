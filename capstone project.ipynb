{
 "cells": [
  {
   "cell_type": "markdown",
   "id": "7903fcbd",
   "metadata": {},
   "source": [
    "## Online Payments Fraud Detection Dataset Case Study\n",
    "\n",
    "Blossom Bank also known as BB PLC is a multinational financial services group, that offers retail and investment banking, pension management, asset management and payments services, headquartered in London, UK.\n",
    "\n",
    "#### Problem\n",
    " - Blossom Bank wants to build a Machine Learning model to predict online payment fraud."
   ]
  },
  {
   "cell_type": "markdown",
   "id": "941898df",
   "metadata": {},
   "source": [
    "The interpretation of the columns:\n",
    "- step: represents a unit of time where 1 step equals 1 hour\n",
    "- type: type of online transaction\n",
    "- amount: the amount of the transaction\n",
    "- nameOrig: customer starting the transaction\n",
    "- oldbalanceOrg: balance before the transaction\n",
    "- newbalanceOrig: balance after the transaction\n",
    "- nameDest: recipient of the transaction\n",
    "- oldbalanceDest: initial balance of recipient before the transaction\n",
    "- newbalanceDest: the new balance of recipient after the transaction\n",
    "- isFraud: fraud transaction"
   ]
  },
  {
   "cell_type": "code",
   "execution_count": 1,
   "id": "a4f4e438",
   "metadata": {},
   "outputs": [],
   "source": [
    "#Import Libraries\n",
    "import numpy as np\n",
    "import pandas as pd\n",
    "import matplotlib.pyplot as plt \n",
    "import seaborn as sns\n",
    "\n",
    "# Classifier Libraries\n",
    "from sklearn.linear_model import LogisticRegression\n",
    "from sklearn.svm import SVC\n",
    "from sklearn.neighbors import KNeighborsClassifier\n",
    "from sklearn.tree import DecisionTreeClassifier\n",
    "from sklearn.ensemble import RandomForestClassifier\n",
    "\n",
    "import collections\n",
    "\n",
    "# Other Libraries\n",
    "from sklearn.model_selection import train_test_split\n",
    "from sklearn.metrics import precision_score, recall_score, f1_score, roc_auc_score, accuracy_score, classification_report\n",
    "from collections import Counter\n",
    "from sklearn.model_selection import KFold, StratifiedKFold"
   ]
  },
  {
   "cell_type": "code",
   "execution_count": 2,
   "id": "6a8de6ce",
   "metadata": {},
   "outputs": [],
   "source": [
    "df = data = pd.read_csv('Online _Payment _Fraud _Detection.csv',encoding='unicode-escape')\n"
   ]
  },
  {
   "cell_type": "code",
   "execution_count": 3,
   "id": "6abbd205",
   "metadata": {},
   "outputs": [
    {
     "data": {
      "text/html": [
       "<div>\n",
       "<style scoped>\n",
       "    .dataframe tbody tr th:only-of-type {\n",
       "        vertical-align: middle;\n",
       "    }\n",
       "\n",
       "    .dataframe tbody tr th {\n",
       "        vertical-align: top;\n",
       "    }\n",
       "\n",
       "    .dataframe thead th {\n",
       "        text-align: right;\n",
       "    }\n",
       "</style>\n",
       "<table border=\"1\" class=\"dataframe\">\n",
       "  <thead>\n",
       "    <tr style=\"text-align: right;\">\n",
       "      <th></th>\n",
       "      <th>step</th>\n",
       "      <th>type</th>\n",
       "      <th>amount</th>\n",
       "      <th>nameOrig</th>\n",
       "      <th>oldbalanceOrg</th>\n",
       "      <th>newbalanceOrig</th>\n",
       "      <th>nameDest</th>\n",
       "      <th>oldbalanceDest</th>\n",
       "      <th>newbalanceDest</th>\n",
       "      <th>isFraud</th>\n",
       "    </tr>\n",
       "  </thead>\n",
       "  <tbody>\n",
       "    <tr>\n",
       "      <th>0</th>\n",
       "      <td>1</td>\n",
       "      <td>PAYMENT</td>\n",
       "      <td>9839.64</td>\n",
       "      <td>C1231006815</td>\n",
       "      <td>170136.0</td>\n",
       "      <td>160296.36</td>\n",
       "      <td>M1979787155</td>\n",
       "      <td>0.0</td>\n",
       "      <td>0.0</td>\n",
       "      <td>0</td>\n",
       "    </tr>\n",
       "    <tr>\n",
       "      <th>1</th>\n",
       "      <td>1</td>\n",
       "      <td>PAYMENT</td>\n",
       "      <td>1864.28</td>\n",
       "      <td>C1666544295</td>\n",
       "      <td>21249.0</td>\n",
       "      <td>19384.72</td>\n",
       "      <td>M2044282225</td>\n",
       "      <td>0.0</td>\n",
       "      <td>0.0</td>\n",
       "      <td>0</td>\n",
       "    </tr>\n",
       "    <tr>\n",
       "      <th>2</th>\n",
       "      <td>1</td>\n",
       "      <td>TRANSFER</td>\n",
       "      <td>181.00</td>\n",
       "      <td>C1305486145</td>\n",
       "      <td>181.0</td>\n",
       "      <td>0.00</td>\n",
       "      <td>C553264065</td>\n",
       "      <td>0.0</td>\n",
       "      <td>0.0</td>\n",
       "      <td>1</td>\n",
       "    </tr>\n",
       "    <tr>\n",
       "      <th>3</th>\n",
       "      <td>1</td>\n",
       "      <td>CASH_OUT</td>\n",
       "      <td>181.00</td>\n",
       "      <td>C840083671</td>\n",
       "      <td>181.0</td>\n",
       "      <td>0.00</td>\n",
       "      <td>C38997010</td>\n",
       "      <td>21182.0</td>\n",
       "      <td>0.0</td>\n",
       "      <td>1</td>\n",
       "    </tr>\n",
       "    <tr>\n",
       "      <th>4</th>\n",
       "      <td>1</td>\n",
       "      <td>PAYMENT</td>\n",
       "      <td>11668.14</td>\n",
       "      <td>C2048537720</td>\n",
       "      <td>41554.0</td>\n",
       "      <td>29885.86</td>\n",
       "      <td>M1230701703</td>\n",
       "      <td>0.0</td>\n",
       "      <td>0.0</td>\n",
       "      <td>0</td>\n",
       "    </tr>\n",
       "  </tbody>\n",
       "</table>\n",
       "</div>"
      ],
      "text/plain": [
       "   step      type    amount     nameOrig  oldbalanceOrg  newbalanceOrig  \\\n",
       "0     1   PAYMENT   9839.64  C1231006815       170136.0       160296.36   \n",
       "1     1   PAYMENT   1864.28  C1666544295        21249.0        19384.72   \n",
       "2     1  TRANSFER    181.00  C1305486145          181.0            0.00   \n",
       "3     1  CASH_OUT    181.00   C840083671          181.0            0.00   \n",
       "4     1   PAYMENT  11668.14  C2048537720        41554.0        29885.86   \n",
       "\n",
       "      nameDest  oldbalanceDest  newbalanceDest  isFraud  \n",
       "0  M1979787155             0.0             0.0        0  \n",
       "1  M2044282225             0.0             0.0        0  \n",
       "2   C553264065             0.0             0.0        1  \n",
       "3    C38997010         21182.0             0.0        1  \n",
       "4  M1230701703             0.0             0.0        0  "
      ]
     },
     "execution_count": 3,
     "metadata": {},
     "output_type": "execute_result"
    }
   ],
   "source": [
    "# Display the first five rows in the data\n",
    "df.head()"
   ]
  },
  {
   "cell_type": "code",
   "execution_count": 4,
   "id": "ec8ec8d1",
   "metadata": {},
   "outputs": [
    {
     "name": "stdout",
     "output_type": "stream",
     "text": [
      "<class 'pandas.core.frame.DataFrame'>\n",
      "RangeIndex: 1048575 entries, 0 to 1048574\n",
      "Data columns (total 10 columns):\n",
      " #   Column          Non-Null Count    Dtype  \n",
      "---  ------          --------------    -----  \n",
      " 0   step            1048575 non-null  int64  \n",
      " 1   type            1048575 non-null  object \n",
      " 2   amount          1048575 non-null  float64\n",
      " 3   nameOrig        1048575 non-null  object \n",
      " 4   oldbalanceOrg   1048575 non-null  float64\n",
      " 5   newbalanceOrig  1048575 non-null  float64\n",
      " 6   nameDest        1048575 non-null  object \n",
      " 7   oldbalanceDest  1048575 non-null  float64\n",
      " 8   newbalanceDest  1048575 non-null  float64\n",
      " 9   isFraud         1048575 non-null  int64  \n",
      "dtypes: float64(5), int64(2), object(3)\n",
      "memory usage: 80.0+ MB\n"
     ]
    }
   ],
   "source": [
    "# Display more information about the data\n",
    "df.info()"
   ]
  },
  {
   "cell_type": "code",
   "execution_count": 5,
   "id": "5d90c2e9",
   "metadata": {},
   "outputs": [
    {
     "data": {
      "text/plain": [
       "Index(['step', 'type', 'amount', 'nameOrig', 'oldbalanceOrg', 'newbalanceOrig',\n",
       "       'nameDest', 'oldbalanceDest', 'newbalanceDest', 'isFraud'],\n",
       "      dtype='object')"
      ]
     },
     "execution_count": 5,
     "metadata": {},
     "output_type": "execute_result"
    }
   ],
   "source": [
    "df.columns"
   ]
  },
  {
   "cell_type": "code",
   "execution_count": 6,
   "id": "327569a1",
   "metadata": {},
   "outputs": [
    {
     "data": {
      "text/html": [
       "<div>\n",
       "<style scoped>\n",
       "    .dataframe tbody tr th:only-of-type {\n",
       "        vertical-align: middle;\n",
       "    }\n",
       "\n",
       "    .dataframe tbody tr th {\n",
       "        vertical-align: top;\n",
       "    }\n",
       "\n",
       "    .dataframe thead th {\n",
       "        text-align: right;\n",
       "    }\n",
       "</style>\n",
       "<table border=\"1\" class=\"dataframe\">\n",
       "  <thead>\n",
       "    <tr style=\"text-align: right;\">\n",
       "      <th></th>\n",
       "      <th>step</th>\n",
       "      <th>amount</th>\n",
       "      <th>oldbalanceOrg</th>\n",
       "      <th>newbalanceOrig</th>\n",
       "      <th>oldbalanceDest</th>\n",
       "      <th>newbalanceDest</th>\n",
       "      <th>isFraud</th>\n",
       "    </tr>\n",
       "  </thead>\n",
       "  <tbody>\n",
       "    <tr>\n",
       "      <th>count</th>\n",
       "      <td>1.048575e+06</td>\n",
       "      <td>1.048575e+06</td>\n",
       "      <td>1.048575e+06</td>\n",
       "      <td>1.048575e+06</td>\n",
       "      <td>1.048575e+06</td>\n",
       "      <td>1.048575e+06</td>\n",
       "      <td>1.048575e+06</td>\n",
       "    </tr>\n",
       "    <tr>\n",
       "      <th>mean</th>\n",
       "      <td>2.696617e+01</td>\n",
       "      <td>1.586670e+05</td>\n",
       "      <td>8.740095e+05</td>\n",
       "      <td>8.938089e+05</td>\n",
       "      <td>9.781600e+05</td>\n",
       "      <td>1.114198e+06</td>\n",
       "      <td>1.089097e-03</td>\n",
       "    </tr>\n",
       "    <tr>\n",
       "      <th>std</th>\n",
       "      <td>1.562325e+01</td>\n",
       "      <td>2.649409e+05</td>\n",
       "      <td>2.971751e+06</td>\n",
       "      <td>3.008271e+06</td>\n",
       "      <td>2.296780e+06</td>\n",
       "      <td>2.416593e+06</td>\n",
       "      <td>3.298351e-02</td>\n",
       "    </tr>\n",
       "    <tr>\n",
       "      <th>min</th>\n",
       "      <td>1.000000e+00</td>\n",
       "      <td>1.000000e-01</td>\n",
       "      <td>0.000000e+00</td>\n",
       "      <td>0.000000e+00</td>\n",
       "      <td>0.000000e+00</td>\n",
       "      <td>0.000000e+00</td>\n",
       "      <td>0.000000e+00</td>\n",
       "    </tr>\n",
       "    <tr>\n",
       "      <th>25%</th>\n",
       "      <td>1.500000e+01</td>\n",
       "      <td>1.214907e+04</td>\n",
       "      <td>0.000000e+00</td>\n",
       "      <td>0.000000e+00</td>\n",
       "      <td>0.000000e+00</td>\n",
       "      <td>0.000000e+00</td>\n",
       "      <td>0.000000e+00</td>\n",
       "    </tr>\n",
       "    <tr>\n",
       "      <th>50%</th>\n",
       "      <td>2.000000e+01</td>\n",
       "      <td>7.634333e+04</td>\n",
       "      <td>1.600200e+04</td>\n",
       "      <td>0.000000e+00</td>\n",
       "      <td>1.263772e+05</td>\n",
       "      <td>2.182604e+05</td>\n",
       "      <td>0.000000e+00</td>\n",
       "    </tr>\n",
       "    <tr>\n",
       "      <th>75%</th>\n",
       "      <td>3.900000e+01</td>\n",
       "      <td>2.137619e+05</td>\n",
       "      <td>1.366420e+05</td>\n",
       "      <td>1.746000e+05</td>\n",
       "      <td>9.159235e+05</td>\n",
       "      <td>1.149808e+06</td>\n",
       "      <td>0.000000e+00</td>\n",
       "    </tr>\n",
       "    <tr>\n",
       "      <th>max</th>\n",
       "      <td>9.500000e+01</td>\n",
       "      <td>1.000000e+07</td>\n",
       "      <td>3.890000e+07</td>\n",
       "      <td>3.890000e+07</td>\n",
       "      <td>4.210000e+07</td>\n",
       "      <td>4.220000e+07</td>\n",
       "      <td>1.000000e+00</td>\n",
       "    </tr>\n",
       "  </tbody>\n",
       "</table>\n",
       "</div>"
      ],
      "text/plain": [
       "               step        amount  oldbalanceOrg  newbalanceOrig  \\\n",
       "count  1.048575e+06  1.048575e+06   1.048575e+06    1.048575e+06   \n",
       "mean   2.696617e+01  1.586670e+05   8.740095e+05    8.938089e+05   \n",
       "std    1.562325e+01  2.649409e+05   2.971751e+06    3.008271e+06   \n",
       "min    1.000000e+00  1.000000e-01   0.000000e+00    0.000000e+00   \n",
       "25%    1.500000e+01  1.214907e+04   0.000000e+00    0.000000e+00   \n",
       "50%    2.000000e+01  7.634333e+04   1.600200e+04    0.000000e+00   \n",
       "75%    3.900000e+01  2.137619e+05   1.366420e+05    1.746000e+05   \n",
       "max    9.500000e+01  1.000000e+07   3.890000e+07    3.890000e+07   \n",
       "\n",
       "       oldbalanceDest  newbalanceDest       isFraud  \n",
       "count    1.048575e+06    1.048575e+06  1.048575e+06  \n",
       "mean     9.781600e+05    1.114198e+06  1.089097e-03  \n",
       "std      2.296780e+06    2.416593e+06  3.298351e-02  \n",
       "min      0.000000e+00    0.000000e+00  0.000000e+00  \n",
       "25%      0.000000e+00    0.000000e+00  0.000000e+00  \n",
       "50%      1.263772e+05    2.182604e+05  0.000000e+00  \n",
       "75%      9.159235e+05    1.149808e+06  0.000000e+00  \n",
       "max      4.210000e+07    4.220000e+07  1.000000e+00  "
      ]
     },
     "execution_count": 6,
     "metadata": {},
     "output_type": "execute_result"
    }
   ],
   "source": [
    "# Statistical information about the data\n",
    "df.describe()"
   ]
  },
  {
   "cell_type": "code",
   "execution_count": 7,
   "id": "da1d1962",
   "metadata": {},
   "outputs": [
    {
     "data": {
      "text/plain": [
       "step              0\n",
       "type              0\n",
       "amount            0\n",
       "nameOrig          0\n",
       "oldbalanceOrg     0\n",
       "newbalanceOrig    0\n",
       "nameDest          0\n",
       "oldbalanceDest    0\n",
       "newbalanceDest    0\n",
       "isFraud           0\n",
       "dtype: int64"
      ]
     },
     "execution_count": 7,
     "metadata": {},
     "output_type": "execute_result"
    }
   ],
   "source": [
    "# Missing Values\n",
    "df.isnull().sum()"
   ]
  },
  {
   "cell_type": "code",
   "execution_count": 8,
   "id": "612e2b31",
   "metadata": {},
   "outputs": [
    {
     "data": {
      "text/plain": [
       "<AxesSubplot:>"
      ]
     },
     "execution_count": 8,
     "metadata": {},
     "output_type": "execute_result"
    },
    {
     "data": {
      "image/png": "[encoded data removed]",
      "text/plain": [
       "<Figure size 432x288 with 1 Axes>"
      ]
     },
     "metadata": {
      "needs_background": "light"
     },
     "output_type": "display_data"
    }
   ],
   "source": [
    "# Visualizing missing values\n",
    "sns.heatmap(df.isnull(),yticklabels=False,cbar=False)"
   ]
  },
  {
   "cell_type": "markdown",
   "id": "ec22825e",
   "metadata": {},
   "source": [
    "## Exploratory Data Analysis"
   ]
  },
  {
   "cell_type": "code",
   "execution_count": 9,
   "id": "73ec89e8",
   "metadata": {
    "scrolled": true
   },
   "outputs": [
    {
     "data": {
      "text/plain": [
       "<AxesSubplot:xlabel='type', ylabel='count'>"
      ]
     },
     "execution_count": 9,
     "metadata": {},
     "output_type": "execute_result"
    },
    {
     "data": {
      "image/png": "[encoded data removed]",
      "text/plain": [
       "<Figure size 432x288 with 1 Axes>"
      ]
     },
     "metadata": {
      "needs_background": "light"
     },
     "output_type": "display_data"
    }
   ],
   "source": [
    "# What type of transation was used the most?\n",
    "sns.countplot(x='type',data=df)"
   ]
  },
  {
   "cell_type": "markdown",
   "id": "5ad2e850",
   "metadata": {},
   "source": [
    "### THIS TO CHECK THE ACCOUNTS THAT HAVE THE HIGHEST RATE OF TRANSACTION \n",
    "### WE WILL LATER CHECK IF THE FREQUENT DESC ACCOUNTS ARE CORRELATING WITH FRAUD \n"
   ]
  },
  {
   "cell_type": "code",
   "execution_count": 10,
   "id": "861817be",
   "metadata": {},
   "outputs": [
    {
     "data": {
      "text/plain": [
       "C985934102     98\n",
       "C1286084959    96\n",
       "C1590550415    89\n",
       "C248609774     88\n",
       "C665576141     87\n",
       "               ..\n",
       "M382871047      1\n",
       "M322765556      1\n",
       "M1118794441     1\n",
       "M1127250627     1\n",
       "M677577406      1\n",
       "Name: nameDest, Length: 449635, dtype: int64"
      ]
     },
     "execution_count": 10,
     "metadata": {},
     "output_type": "execute_result"
    }
   ],
   "source": [
    "df.nameDest.value_counts()"
   ]
  },
  {
   "cell_type": "code",
   "execution_count": 11,
   "id": "188a9858",
   "metadata": {},
   "outputs": [
    {
     "data": {
      "text/plain": [
       "C1214450722    2\n",
       "C309111136     2\n",
       "C1268675361    2\n",
       "C720460198     2\n",
       "C1109092856    2\n",
       "              ..\n",
       "C560131732     1\n",
       "C455251560     1\n",
       "C650578540     1\n",
       "C1883668225    1\n",
       "C1264356443    1\n",
       "Name: nameOrig, Length: 1048317, dtype: int64"
      ]
     },
     "execution_count": 11,
     "metadata": {},
     "output_type": "execute_result"
    }
   ],
   "source": [
    "## This is neglible because the higest frequncy from a particular source is 2\n",
    "df.nameOrig.value_counts()"
   ]
  },
  {
   "cell_type": "code",
   "execution_count": 12,
   "id": "a56c9964",
   "metadata": {},
   "outputs": [
    {
     "data": {
      "text/plain": [
       "<AxesSubplot:xlabel='type', ylabel='amount'>"
      ]
     },
     "execution_count": 12,
     "metadata": {},
     "output_type": "execute_result"
    },
    {
     "data": {
      "image/png": "[encoded data removed]",
      "text/plain": [
       "<Figure size 432x288 with 1 Axes>"
      ]
     },
     "metadata": {
      "needs_background": "light"
     },
     "output_type": "display_data"
    }
   ],
   "source": [
    "# What type of transation had the most amount in value?\n",
    "sns.barplot(x='type',y='amount',data=df)"
   ]
  },
  {
   "cell_type": "code",
   "execution_count": 13,
   "id": "6cb44575",
   "metadata": {},
   "outputs": [
    {
     "data": {
      "image/png": "[encoded data removed]",
      "text/plain": [
       "<Figure size 432x288 with 1 Axes>"
      ]
     },
     "metadata": {
      "needs_background": "light"
     },
     "output_type": "display_data"
    }
   ],
   "source": [
    "\n",
    "fr = df.groupby(['type', 'isFraud']).size().plot(kind='bar')\n",
    "fr.set_title(\"# of transaction which are the actual fraud per transaction type\")\n",
    "fr.set_xlabel(\"(Type, isFraud)\")\n",
    "fr.set_ylabel(\"Count of transaction\")\n",
    "for p in fr.patches:\n",
    "    fr.annotate(str(format(int(p.get_height()), ',d')), (p.get_x(), p.get_height()*1.01))"
   ]
  },
  {
   "cell_type": "markdown",
   "id": "a66c8d43",
   "metadata": {},
   "source": [
    "## We can infer from above  bar above that fraud is mostly perpertrated  in cash out and transfer transactions"
   ]
  },
  {
   "cell_type": "code",
   "execution_count": 14,
   "id": "4a1f57cd",
   "metadata": {},
   "outputs": [
    {
     "data": {
      "text/plain": [
       "<AxesSubplot:xlabel='type', ylabel='amount'>"
      ]
     },
     "execution_count": 14,
     "metadata": {},
     "output_type": "execute_result"
    },
    {
     "data": {
      "image/png": "[encoded data removed]",
      "text/plain": [
       "<Figure size 432x288 with 1 Axes>"
      ]
     },
     "metadata": {
      "needs_background": "light"
     },
     "output_type": "display_data"
    }
   ],
   "source": [
    "# What type of transation had the most amount in value?\n",
    "sns.barplot(x='type',y='amount',data=df)"
   ]
  },
  {
   "cell_type": "markdown",
   "id": "154fb668",
   "metadata": {},
   "source": [
    "Cash out and Payment are the most common type of transactions but Transfer type has the maximum amount of money being transfered to the recipient."
   ]
  },
  {
   "cell_type": "code",
   "execution_count": 15,
   "id": "e2413d2f",
   "metadata": {},
   "outputs": [
    {
     "data": {
      "text/plain": [
       "<AxesSubplot:xlabel='isFraud', ylabel='count'>"
      ]
     },
     "execution_count": 15,
     "metadata": {},
     "output_type": "execute_result"
    },
    {
     "data": {
      "image/png": "[encoded data removed]",
      "text/plain": [
       "<Figure size 432x288 with 1 Axes>"
      ]
     },
     "metadata": {
      "needs_background": "light"
     },
     "output_type": "display_data"
    }
   ],
   "source": [
    "# The above graph indicates that the dataset is highly unbalanced.\n",
    "sns.countplot(x='isFraud',data=df)"
   ]
  },
  {
   "cell_type": "code",
   "execution_count": 16,
   "id": "c023dcde",
   "metadata": {},
   "outputs": [
    {
     "data": {
      "text/plain": [
       "19    51352\n",
       "18    49579\n",
       "43    45060\n",
       "15    44609\n",
       "17    43361\n",
       "      ...  \n",
       "67        6\n",
       "54        4\n",
       "76        4\n",
       "28        4\n",
       "29        4\n",
       "Name: step, Length: 95, dtype: int64"
      ]
     },
     "execution_count": 16,
     "metadata": {},
     "output_type": "execute_result"
    }
   ],
   "source": [
    "df.step.value_counts()"
   ]
  },
  {
   "cell_type": "code",
   "execution_count": 17,
   "id": "94fbb57a",
   "metadata": {},
   "outputs": [
    {
     "data": {
      "text/plain": [
       "<AxesSubplot:xlabel='step', ylabel='Count'>"
      ]
     },
     "execution_count": 17,
     "metadata": {},
     "output_type": "execute_result"
    },
    {
     "data": {
      "image/png": "[encoded data removed]",
      "text/plain": [
       "<Figure size 432x288 with 1 Axes>"
      ]
     },
     "metadata": {
      "needs_background": "light"
     },
     "output_type": "display_data"
    }
   ],
   "source": [
    "# There is no normal distribution of the step(hours ) per transaction\n",
    "sns.histplot(data=df,x='step')"
   ]
  },
  {
   "cell_type": "code",
   "execution_count": 18,
   "id": "201cd9cb",
   "metadata": {},
   "outputs": [
    {
     "data": {
      "text/plain": [
       "<AxesSubplot:xlabel='step'>"
      ]
     },
     "execution_count": 18,
     "metadata": {},
     "output_type": "execute_result"
    },
    {
     "data": {
      "image/png": "[encoded data removed]",
      "text/plain": [
       "<Figure size 432x288 with 1 Axes>"
      ]
     },
     "metadata": {
      "needs_background": "light"
     },
     "output_type": "display_data"
    }
   ],
   "source": [
    "# The boxplot shows that we have outliers present in the step column\n",
    "sns.boxplot(data=df,x='step')"
   ]
  },
  {
   "cell_type": "code",
   "execution_count": 19,
   "id": "ae2fe782",
   "metadata": {},
   "outputs": [
    {
     "data": {
      "text/plain": [
       "<AxesSubplot:xlabel='amount', ylabel='Count'>"
      ]
     },
     "execution_count": 19,
     "metadata": {},
     "output_type": "execute_result"
    },
    {
     "data": {
      "image/png": "[encoded data removed]",
      "text/plain": [
       "<Figure size 432x288 with 1 Axes>"
      ]
     },
     "metadata": {
      "needs_background": "light"
     },
     "output_type": "display_data"
    }
   ],
   "source": [
    "\n",
    "# The distribution of the amount feature is not symmentrical\n",
    "sns.histplot(data=df,x='amount')"
   ]
  },
  {
   "cell_type": "code",
   "execution_count": null,
   "id": "263c0540",
   "metadata": {},
   "outputs": [],
   "source": []
  },
  {
   "cell_type": "code",
   "execution_count": 20,
   "id": "2a49e364",
   "metadata": {},
   "outputs": [
    {
     "data": {
      "text/plain": [
       "<AxesSubplot:xlabel='amount'>"
      ]
     },
     "execution_count": 20,
     "metadata": {},
     "output_type": "execute_result"
    },
    {
     "data": {
      "image/png": "[encoded data removed]",
      "text/plain": [
       "<Figure size 432x288 with 1 Axes>"
      ]
     },
     "metadata": {
      "needs_background": "light"
     },
     "output_type": "display_data"
    }
   ],
   "source": [
    "# The amount column has a lot outliers\n",
    "sns.boxplot(data=df,x='amount')"
   ]
  },
  {
   "cell_type": "code",
   "execution_count": 21,
   "id": "19ec31e5",
   "metadata": {},
   "outputs": [
    {
     "name": "stderr",
     "output_type": "stream",
     "text": [
      "C:\\Users\\IDOWU O K\\anaconda3\\lib\\site-packages\\seaborn\\distributions.py:2619: FutureWarning: `distplot` is a deprecated function and will be removed in a future version. Please adapt your code to use either `displot` (a figure-level function with similar flexibility) or `histplot` (an axes-level function for histograms).\n",
      "  warnings.warn(msg, FutureWarning)\n"
     ]
    },
    {
     "data": {
      "text/plain": [
       "<AxesSubplot:xlabel='step', ylabel='Density'>"
      ]
     },
     "execution_count": 21,
     "metadata": {},
     "output_type": "execute_result"
    },
    {
     "data": {
      "image/png": "[encoded data removed]",
      "text/plain": [
       "<Figure size 1080x432 with 1 Axes>"
      ]
     },
     "metadata": {
      "needs_background": "light"
     },
     "output_type": "display_data"
    }
   ],
   "source": [
    "# Distribution of the Step column\n",
    "plt.figure(figsize=(15,6))\n",
    "sns.distplot(df['step'],bins=100)"
   ]
  },
  {
   "cell_type": "code",
   "execution_count": 22,
   "id": "a9e16127",
   "metadata": {},
   "outputs": [
    {
     "name": "stderr",
     "output_type": "stream",
     "text": [
      "C:\\Users\\IDOWU O K\\anaconda3\\lib\\site-packages\\seaborn\\distributions.py:2619: FutureWarning: `distplot` is a deprecated function and will be removed in a future version. Please adapt your code to use either `displot` (a figure-level function with similar flexibility) or `histplot` (an axes-level function for histograms).\n",
      "  warnings.warn(msg, FutureWarning)\n"
     ]
    },
    {
     "data": {
      "text/plain": [
       "<AxesSubplot:xlabel='amount', ylabel='Density'>"
      ]
     },
     "execution_count": 22,
     "metadata": {},
     "output_type": "execute_result"
    },
    {
     "data": {
      "image/png": "[encoded data removed]",
      "text/plain": [
       "<Figure size 1080x432 with 1 Axes>"
      ]
     },
     "metadata": {
      "needs_background": "light"
     },
     "output_type": "display_data"
    }
   ],
   "source": [
    "# Distribution of the amount column\n",
    "plt.figure(figsize=(15,6))\n",
    "sns.distplot(df['amount'])"
   ]
  },
  {
   "cell_type": "code",
   "execution_count": 23,
   "id": "4155d8f1",
   "metadata": {},
   "outputs": [
    {
     "data": {
      "text/plain": [
       "<seaborn.axisgrid.JointGrid at 0x2b7248174f0>"
      ]
     },
     "execution_count": 23,
     "metadata": {},
     "output_type": "execute_result"
    },
    {
     "data": {
      "image/png": "[encoded data removed]",
      "text/plain": [
       "<Figure size 432x432 with 3 Axes>"
      ]
     },
     "metadata": {
      "needs_background": "light"
     },
     "output_type": "display_data"
    }
   ],
   "source": [
    "# A joint plot investigating the relationship between Step and Amount\n",
    "sns.jointplot(x='step',y='amount',data=df)"
   ]
  },
  {
   "cell_type": "code",
   "execution_count": 24,
   "id": "f6321015",
   "metadata": {},
   "outputs": [
    {
     "data": {
      "text/plain": [
       "<AxesSubplot:>"
      ]
     },
     "execution_count": 24,
     "metadata": {},
     "output_type": "execute_result"
    },
    {
     "data": {
      "image/png": "[encoded data removed]",
      "text/plain": [
       "<Figure size 864x576 with 2 Axes>"
      ]
     },
     "metadata": {
      "needs_background": "light"
     },
     "output_type": "display_data"
    }
   ],
   "source": [
    "# Using the heatmap to showcase the relationship between each columns\n",
    "plt.figure(figsize=(12, 8))\n",
    "\n",
    "sns.heatmap(df.corr(),annot=True,linewidths=.5)"
   ]
  },
  {
   "cell_type": "markdown",
   "id": "714dc165",
   "metadata": {},
   "source": [
    "### From the above heatmap there is strong  correlation betwwen oldbalancedest and newBalanceDest, \n",
    "\n",
    "### The lack of correlation between fraud and other features in the data is connected to the lack of balance in the dataset\n"
   ]
  },
  {
   "cell_type": "code",
   "execution_count": 25,
   "id": "2530f39e",
   "metadata": {},
   "outputs": [
    {
     "data": {
      "text/plain": [
       "0    1047433\n",
       "1       1142\n",
       "Name: isFraud, dtype: int64"
      ]
     },
     "execution_count": 25,
     "metadata": {},
     "output_type": "execute_result"
    }
   ],
   "source": [
    "df['isFraud'].value_counts()"
   ]
  },
  {
   "cell_type": "markdown",
   "id": "b2a019cb",
   "metadata": {},
   "source": [
    "\n",
    "\n",
    "Resampling the dataset\n",
    "\n",
    "- Essentially this is a method that will process the data to have an approximate 50-50 ratio.\n",
    "- One way to achieve this is by OVER-sampling, which is adding copies of the under-represented class (better when you have little data)\n",
    "- Another is UNDER-sampling, which deletes instances from the over-represented class (better when he have lot's of data)"
   ]
  },
  {
   "cell_type": "code",
   "execution_count": 26,
   "id": "43301546",
   "metadata": {},
   "outputs": [
    {
     "data": {
      "text/plain": [
       "Index(['step', 'type', 'amount', 'oldbalanceOrg', 'newbalanceOrig',\n",
       "       'oldbalanceDest', 'newbalanceDest', 'isFraud'],\n",
       "      dtype='object')"
      ]
     },
     "execution_count": 26,
     "metadata": {},
     "output_type": "execute_result"
    }
   ],
   "source": [
    "df.drop(['nameOrig','nameDest'],axis=1,inplace=True)\n",
    "df.columns"
   ]
  },
  {
   "cell_type": "code",
   "execution_count": 27,
   "id": "4a95e48f",
   "metadata": {},
   "outputs": [
    {
     "data": {
      "text/html": [
       "<div>\n",
       "<style scoped>\n",
       "    .dataframe tbody tr th:only-of-type {\n",
       "        vertical-align: middle;\n",
       "    }\n",
       "\n",
       "    .dataframe tbody tr th {\n",
       "        vertical-align: top;\n",
       "    }\n",
       "\n",
       "    .dataframe thead th {\n",
       "        text-align: right;\n",
       "    }\n",
       "</style>\n",
       "<table border=\"1\" class=\"dataframe\">\n",
       "  <thead>\n",
       "    <tr style=\"text-align: right;\">\n",
       "      <th></th>\n",
       "      <th>step</th>\n",
       "      <th>type</th>\n",
       "      <th>amount</th>\n",
       "      <th>oldbalanceOrg</th>\n",
       "      <th>newbalanceOrig</th>\n",
       "      <th>oldbalanceDest</th>\n",
       "      <th>newbalanceDest</th>\n",
       "      <th>isFraud</th>\n",
       "    </tr>\n",
       "  </thead>\n",
       "  <tbody>\n",
       "    <tr>\n",
       "      <th>0</th>\n",
       "      <td>1</td>\n",
       "      <td>PAYMENT</td>\n",
       "      <td>9839.64</td>\n",
       "      <td>170136.0</td>\n",
       "      <td>160296.36</td>\n",
       "      <td>0.0</td>\n",
       "      <td>0.0</td>\n",
       "      <td>0</td>\n",
       "    </tr>\n",
       "    <tr>\n",
       "      <th>1</th>\n",
       "      <td>1</td>\n",
       "      <td>PAYMENT</td>\n",
       "      <td>1864.28</td>\n",
       "      <td>21249.0</td>\n",
       "      <td>19384.72</td>\n",
       "      <td>0.0</td>\n",
       "      <td>0.0</td>\n",
       "      <td>0</td>\n",
       "    </tr>\n",
       "    <tr>\n",
       "      <th>2</th>\n",
       "      <td>1</td>\n",
       "      <td>TRANSFER</td>\n",
       "      <td>181.00</td>\n",
       "      <td>181.0</td>\n",
       "      <td>0.00</td>\n",
       "      <td>0.0</td>\n",
       "      <td>0.0</td>\n",
       "      <td>1</td>\n",
       "    </tr>\n",
       "    <tr>\n",
       "      <th>3</th>\n",
       "      <td>1</td>\n",
       "      <td>CASH_OUT</td>\n",
       "      <td>181.00</td>\n",
       "      <td>181.0</td>\n",
       "      <td>0.00</td>\n",
       "      <td>21182.0</td>\n",
       "      <td>0.0</td>\n",
       "      <td>1</td>\n",
       "    </tr>\n",
       "    <tr>\n",
       "      <th>4</th>\n",
       "      <td>1</td>\n",
       "      <td>PAYMENT</td>\n",
       "      <td>11668.14</td>\n",
       "      <td>41554.0</td>\n",
       "      <td>29885.86</td>\n",
       "      <td>0.0</td>\n",
       "      <td>0.0</td>\n",
       "      <td>0</td>\n",
       "    </tr>\n",
       "  </tbody>\n",
       "</table>\n",
       "</div>"
      ],
      "text/plain": [
       "   step      type    amount  oldbalanceOrg  newbalanceOrig  oldbalanceDest  \\\n",
       "0     1   PAYMENT   9839.64       170136.0       160296.36             0.0   \n",
       "1     1   PAYMENT   1864.28        21249.0        19384.72             0.0   \n",
       "2     1  TRANSFER    181.00          181.0            0.00             0.0   \n",
       "3     1  CASH_OUT    181.00          181.0            0.00         21182.0   \n",
       "4     1   PAYMENT  11668.14        41554.0        29885.86             0.0   \n",
       "\n",
       "   newbalanceDest  isFraud  \n",
       "0             0.0        0  \n",
       "1             0.0        0  \n",
       "2             0.0        1  \n",
       "3             0.0        1  \n",
       "4             0.0        0  "
      ]
     },
     "execution_count": 27,
     "metadata": {},
     "output_type": "execute_result"
    }
   ],
   "source": [
    "df.head()"
   ]
  },
  {
   "cell_type": "markdown",
   "id": "abdc0aeb",
   "metadata": {},
   "source": [
    "## Sub-Sample\n",
    "This will create a dataframe with a ratio of 50/50 ratio of fraud and non-fraud transactions This is done to avoid -OVERFITTING and WRONG CORRELATIONS"
   ]
  },
  {
   "cell_type": "code",
   "execution_count": 28,
   "id": "e8dc9e5f",
   "metadata": {},
   "outputs": [
    {
     "data": {
      "text/html": [
       "<div>\n",
       "<style scoped>\n",
       "    .dataframe tbody tr th:only-of-type {\n",
       "        vertical-align: middle;\n",
       "    }\n",
       "\n",
       "    .dataframe tbody tr th {\n",
       "        vertical-align: top;\n",
       "    }\n",
       "\n",
       "    .dataframe thead th {\n",
       "        text-align: right;\n",
       "    }\n",
       "</style>\n",
       "<table border=\"1\" class=\"dataframe\">\n",
       "  <thead>\n",
       "    <tr style=\"text-align: right;\">\n",
       "      <th></th>\n",
       "      <th>step</th>\n",
       "      <th>type</th>\n",
       "      <th>amount</th>\n",
       "      <th>oldbalanceOrg</th>\n",
       "      <th>newbalanceOrig</th>\n",
       "      <th>oldbalanceDest</th>\n",
       "      <th>newbalanceDest</th>\n",
       "      <th>isFraud</th>\n",
       "      <th>Scaled_step</th>\n",
       "      <th>Scaled_amount</th>\n",
       "      <th>Scaled_oldbalanceOrg</th>\n",
       "      <th>Scaled_newbalanceOrig</th>\n",
       "      <th>Scaled_oldbalanceDest</th>\n",
       "      <th>Scaled_newbalanceDest</th>\n",
       "    </tr>\n",
       "  </thead>\n",
       "  <tbody>\n",
       "    <tr>\n",
       "      <th>0</th>\n",
       "      <td>1</td>\n",
       "      <td>PAYMENT</td>\n",
       "      <td>9839.64</td>\n",
       "      <td>170136.0</td>\n",
       "      <td>160296.36</td>\n",
       "      <td>0.0</td>\n",
       "      <td>0.0</td>\n",
       "      <td>0</td>\n",
       "      <td>-0.791667</td>\n",
       "      <td>-0.329858</td>\n",
       "      <td>1.128013</td>\n",
       "      <td>0.918078</td>\n",
       "      <td>-0.137978</td>\n",
       "      <td>-0.189823</td>\n",
       "    </tr>\n",
       "    <tr>\n",
       "      <th>1</th>\n",
       "      <td>1</td>\n",
       "      <td>PAYMENT</td>\n",
       "      <td>1864.28</td>\n",
       "      <td>21249.0</td>\n",
       "      <td>19384.72</td>\n",
       "      <td>0.0</td>\n",
       "      <td>0.0</td>\n",
       "      <td>0</td>\n",
       "      <td>-0.791667</td>\n",
       "      <td>-0.369416</td>\n",
       "      <td>0.038400</td>\n",
       "      <td>0.111024</td>\n",
       "      <td>-0.137978</td>\n",
       "      <td>-0.189823</td>\n",
       "    </tr>\n",
       "    <tr>\n",
       "      <th>2</th>\n",
       "      <td>1</td>\n",
       "      <td>TRANSFER</td>\n",
       "      <td>181.00</td>\n",
       "      <td>181.0</td>\n",
       "      <td>0.00</td>\n",
       "      <td>0.0</td>\n",
       "      <td>0.0</td>\n",
       "      <td>1</td>\n",
       "      <td>-0.791667</td>\n",
       "      <td>-0.377765</td>\n",
       "      <td>-0.115784</td>\n",
       "      <td>0.000000</td>\n",
       "      <td>-0.137978</td>\n",
       "      <td>-0.189823</td>\n",
       "    </tr>\n",
       "    <tr>\n",
       "      <th>3</th>\n",
       "      <td>1</td>\n",
       "      <td>CASH_OUT</td>\n",
       "      <td>181.00</td>\n",
       "      <td>181.0</td>\n",
       "      <td>0.00</td>\n",
       "      <td>21182.0</td>\n",
       "      <td>0.0</td>\n",
       "      <td>1</td>\n",
       "      <td>-0.791667</td>\n",
       "      <td>-0.377765</td>\n",
       "      <td>-0.115784</td>\n",
       "      <td>0.000000</td>\n",
       "      <td>-0.114852</td>\n",
       "      <td>-0.189823</td>\n",
       "    </tr>\n",
       "    <tr>\n",
       "      <th>4</th>\n",
       "      <td>1</td>\n",
       "      <td>PAYMENT</td>\n",
       "      <td>11668.14</td>\n",
       "      <td>41554.0</td>\n",
       "      <td>29885.86</td>\n",
       "      <td>0.0</td>\n",
       "      <td>0.0</td>\n",
       "      <td>0</td>\n",
       "      <td>-0.791667</td>\n",
       "      <td>-0.320789</td>\n",
       "      <td>0.187000</td>\n",
       "      <td>0.171168</td>\n",
       "      <td>-0.137978</td>\n",
       "      <td>-0.189823</td>\n",
       "    </tr>\n",
       "  </tbody>\n",
       "</table>\n",
       "</div>"
      ],
      "text/plain": [
       "   step      type    amount  oldbalanceOrg  newbalanceOrig  oldbalanceDest  \\\n",
       "0     1   PAYMENT   9839.64       170136.0       160296.36             0.0   \n",
       "1     1   PAYMENT   1864.28        21249.0        19384.72             0.0   \n",
       "2     1  TRANSFER    181.00          181.0            0.00             0.0   \n",
       "3     1  CASH_OUT    181.00          181.0            0.00         21182.0   \n",
       "4     1   PAYMENT  11668.14        41554.0        29885.86             0.0   \n",
       "\n",
       "   newbalanceDest  isFraud  Scaled_step  Scaled_amount  Scaled_oldbalanceOrg  \\\n",
       "0             0.0        0    -0.791667      -0.329858              1.128013   \n",
       "1             0.0        0    -0.791667      -0.369416              0.038400   \n",
       "2             0.0        1    -0.791667      -0.377765             -0.115784   \n",
       "3             0.0        1    -0.791667      -0.377765             -0.115784   \n",
       "4             0.0        0    -0.791667      -0.320789              0.187000   \n",
       "\n",
       "   Scaled_newbalanceOrig  Scaled_oldbalanceDest  Scaled_newbalanceDest  \n",
       "0               0.918078              -0.137978              -0.189823  \n",
       "1               0.111024              -0.137978              -0.189823  \n",
       "2               0.000000              -0.137978              -0.189823  \n",
       "3               0.000000              -0.114852              -0.189823  \n",
       "4               0.171168              -0.137978              -0.189823  "
      ]
     },
     "execution_count": 28,
     "metadata": {},
     "output_type": "execute_result"
    }
   ],
   "source": [
    "from sklearn.preprocessing import StandardScaler, RobustScaler\n",
    "\n",
    "#Standardization: scales features such that the distribution is centered around 0, with a standard deviation of 1.\n",
    "#Normalization: shrinks the range such that the range is now between 0 and 1 (or -1 to 1 if there are negative values).\n",
    "#Robust Scaler: similar to normalization but it instead uses the interquartile range, so that it is robust to outliers.\n",
    "\n",
    "std_scaler = StandardScaler()\n",
    "rob_scaler = RobustScaler()\n",
    "\n",
    "# create a new column for scaled columns\n",
    "df[\"Scaled_step\"] = rob_scaler.fit_transform(df[\"step\"].values.reshape(-1,1))\n",
    "df[\"Scaled_amount\"] = rob_scaler.fit_transform(df[\"amount\"].values.reshape(-1,1))\n",
    "df[\"Scaled_oldbalanceOrg\"] = rob_scaler.fit_transform(df[\"oldbalanceOrg\"].values.reshape(-1,1))\n",
    "df[\"Scaled_newbalanceOrig\"] = rob_scaler.fit_transform(df[\"newbalanceOrig\"].values.reshape(-1,1))\n",
    "df[\"Scaled_oldbalanceDest\"] = rob_scaler.fit_transform(df[\"oldbalanceDest\"].values.reshape(-1,1))\n",
    "df[\"Scaled_newbalanceDest\"] = rob_scaler.fit_transform(df[\"newbalanceDest\"].values.reshape(-1,1))\n",
    "\n",
    "df.head()"
   ]
  },
  {
   "cell_type": "code",
   "execution_count": 29,
   "id": "4a7d954e",
   "metadata": {},
   "outputs": [
    {
     "data": {
      "text/html": [
       "<div>\n",
       "<style scoped>\n",
       "    .dataframe tbody tr th:only-of-type {\n",
       "        vertical-align: middle;\n",
       "    }\n",
       "\n",
       "    .dataframe tbody tr th {\n",
       "        vertical-align: top;\n",
       "    }\n",
       "\n",
       "    .dataframe thead th {\n",
       "        text-align: right;\n",
       "    }\n",
       "</style>\n",
       "<table border=\"1\" class=\"dataframe\">\n",
       "  <thead>\n",
       "    <tr style=\"text-align: right;\">\n",
       "      <th></th>\n",
       "      <th>isFraud</th>\n",
       "      <th>Scaled_step</th>\n",
       "      <th>Scaled_amount</th>\n",
       "      <th>Scaled_oldbalanceOrg</th>\n",
       "      <th>Scaled_newbalanceOrig</th>\n",
       "      <th>Scaled_oldbalanceDest</th>\n",
       "      <th>Scaled_newbalanceDest</th>\n",
       "    </tr>\n",
       "  </thead>\n",
       "  <tbody>\n",
       "    <tr>\n",
       "      <th>0</th>\n",
       "      <td>0</td>\n",
       "      <td>-0.791667</td>\n",
       "      <td>-0.329858</td>\n",
       "      <td>1.128013</td>\n",
       "      <td>0.918078</td>\n",
       "      <td>-0.137978</td>\n",
       "      <td>-0.189823</td>\n",
       "    </tr>\n",
       "    <tr>\n",
       "      <th>1</th>\n",
       "      <td>0</td>\n",
       "      <td>-0.791667</td>\n",
       "      <td>-0.369416</td>\n",
       "      <td>0.038400</td>\n",
       "      <td>0.111024</td>\n",
       "      <td>-0.137978</td>\n",
       "      <td>-0.189823</td>\n",
       "    </tr>\n",
       "    <tr>\n",
       "      <th>2</th>\n",
       "      <td>1</td>\n",
       "      <td>-0.791667</td>\n",
       "      <td>-0.377765</td>\n",
       "      <td>-0.115784</td>\n",
       "      <td>0.000000</td>\n",
       "      <td>-0.137978</td>\n",
       "      <td>-0.189823</td>\n",
       "    </tr>\n",
       "    <tr>\n",
       "      <th>3</th>\n",
       "      <td>1</td>\n",
       "      <td>-0.791667</td>\n",
       "      <td>-0.377765</td>\n",
       "      <td>-0.115784</td>\n",
       "      <td>0.000000</td>\n",
       "      <td>-0.114852</td>\n",
       "      <td>-0.189823</td>\n",
       "    </tr>\n",
       "    <tr>\n",
       "      <th>4</th>\n",
       "      <td>0</td>\n",
       "      <td>-0.791667</td>\n",
       "      <td>-0.320789</td>\n",
       "      <td>0.187000</td>\n",
       "      <td>0.171168</td>\n",
       "      <td>-0.137978</td>\n",
       "      <td>-0.189823</td>\n",
       "    </tr>\n",
       "  </tbody>\n",
       "</table>\n",
       "</div>"
      ],
      "text/plain": [
       "   isFraud  Scaled_step  Scaled_amount  Scaled_oldbalanceOrg  \\\n",
       "0        0    -0.791667      -0.329858              1.128013   \n",
       "1        0    -0.791667      -0.369416              0.038400   \n",
       "2        1    -0.791667      -0.377765             -0.115784   \n",
       "3        1    -0.791667      -0.377765             -0.115784   \n",
       "4        0    -0.791667      -0.320789              0.187000   \n",
       "\n",
       "   Scaled_newbalanceOrig  Scaled_oldbalanceDest  Scaled_newbalanceDest  \n",
       "0               0.918078              -0.137978              -0.189823  \n",
       "1               0.111024              -0.137978              -0.189823  \n",
       "2               0.000000              -0.137978              -0.189823  \n",
       "3               0.000000              -0.114852              -0.189823  \n",
       "4               0.171168              -0.137978              -0.189823  "
      ]
     },
     "execution_count": 29,
     "metadata": {},
     "output_type": "execute_result"
    }
   ],
   "source": [
    "df.drop([\"step\",\"type\",\"amount\", \"oldbalanceOrg\", \"newbalanceOrig\", \"oldbalanceDest\", \"newbalanceDest\"], axis=1, inplace=True)\n",
    "\n",
    "df.head()"
   ]
  },
  {
   "cell_type": "code",
   "execution_count": 30,
   "id": "bdfa71b2",
   "metadata": {},
   "outputs": [
    {
     "name": "stdout",
     "output_type": "stream",
     "text": [
      "99.89 % of the data are not fraudulent transactions\n",
      "0.11 % of the data are fraudulent\n",
      "Train: [ 209639  209640  209641 ... 1048572 1048573 1048574] Test: [     0      1      2 ... 480463 480464 481250]\n",
      "Train: [      0       1       2 ... 1048572 1048573 1048574] Test: [209639 209640 209641 ... 777627 782395 782396]\n",
      "Train: [      0       1       2 ... 1048572 1048573 1048574] Test: [ 419187  419188  419189 ... 1030354 1030355 1030356]\n",
      "Train: [      0       1       2 ... 1048572 1048573 1048574] Test: [ 628844  628845  628846 ... 1030583 1030584 1030585]\n",
      "Train: [      0       1       2 ... 1030583 1030584 1030585] Test: [ 838419  838420  838421 ... 1048572 1048573 1048574]\n",
      "----------------------------------------------------------------------------------------------------\n",
      "Label Distributions: \n",
      "\n",
      "[0.99891162 0.00108838]\n",
      "[0.99890804 0.00109196]\n"
     ]
    }
   ],
   "source": [
    "#Splitting the Data - (Original Dataframe)\n",
    "#I am going to perform Random Undersampling and Oversampling to test the models on the original dataset and noy the testing set creating during sampling\n",
    "\n",
    "data = df.copy()\n",
    "\n",
    "print(round(df[\"isFraud\"].value_counts()[0]/len(df) * 100,2), \"% of the data are not fraudulent transactions\")\n",
    "print(round(df[\"isFraud\"].value_counts()[1]/len(df) * 100,2), \"% of the data are fraudulent\")\n",
    "\n",
    "#drop the label\n",
    "y = df[\"isFraud\"]\n",
    "x = df.drop(\"isFraud\", axis=1)\n",
    "\n",
    "sample = StratifiedKFold(n_splits=5, random_state=None, shuffle=False)\n",
    "\n",
    "for train_index, test_index in sample.split(x, y):\n",
    "    print(\"Train:\", train_index, \"Test:\", test_index)\n",
    "    original_Xtrain, original_Xtest = x.iloc[train_index], x.iloc[test_index]\n",
    "    original_ytrain, original_ytest = y.iloc[train_index], y.iloc[test_index]\n",
    "    \n",
    "# Turn into an array\n",
    "original_Xtrain = original_Xtrain.values\n",
    "original_Xtest = original_Xtest.values\n",
    "original_ytrain = original_ytrain.values\n",
    "original_ytest = original_ytest.values\n",
    "\n",
    "# See if both the train and test label distribution are similarly distributed\n",
    "train_unique_label, train_counts_label = np.unique(original_ytrain, return_counts=True)\n",
    "test_unique_label, test_counts_label = np.unique(original_ytest, return_counts=True)\n",
    "print('-' * 100)\n",
    "\n",
    "print('Label Distributions: \\n')\n",
    "print(train_counts_label/ len(original_ytrain))\n",
    "print(test_counts_label/ len(original_ytest))"
   ]
  },
  {
   "cell_type": "code",
   "execution_count": 31,
   "id": "4f7110ed",
   "metadata": {},
   "outputs": [
    {
     "name": "stdout",
     "output_type": "stream",
     "text": [
      "Non-Fraud transactions =  1047433\n",
      "Fraud transactions =  1142\n",
      "----------------------------------------\n",
      "Result from random undersampling\n",
      "Non-Fraud transactions =  1142\n",
      "Fraud transactions =  1142\n"
     ]
    }
   ],
   "source": [
    "#Random Under-Sampling\n",
    "#This basically consists of removing data in order to have a more balanced dataset and thus avoiding our models to overfitting.\n",
    "\n",
    "print(\"Non-Fraud transactions = \", df[\"isFraud\"].value_counts()[0])\n",
    "print(\"Fraud transactions = \", df[\"isFraud\"].value_counts()[1])\n",
    "print(\"----------------------------------------\")\n",
    "\n",
    "df = df.sample(frac=1)\n",
    "\n",
    "#Amount of fraud classes 492 rows.\n",
    "fraud_df = df.loc[df['isFraud'] == 1]\n",
    "non_fraud_df = df.loc[df['isFraud'] == 0][:1142]\n",
    "\n",
    "normal_distributed_df = pd.concat([fraud_df, non_fraud_df])\n",
    "\n",
    "# Shuffle dataframe rows\n",
    "new_df = normal_distributed_df.sample(frac=1, random_state=42)\n",
    "\n",
    "new_df.head()\n",
    "\n",
    "print(\"Result from random undersampling\")\n",
    "print(\"Non-Fraud transactions = \", new_df[\"isFraud\"].value_counts()[0])\n",
    "print(\"Fraud transactions = \", new_df[\"isFraud\"].value_counts()[1])"
   ]
  },
  {
   "cell_type": "code",
   "execution_count": 32,
   "id": "7b73fd62",
   "metadata": {},
   "outputs": [
    {
     "data": {
      "text/html": [
       "<div>\n",
       "<style scoped>\n",
       "    .dataframe tbody tr th:only-of-type {\n",
       "        vertical-align: middle;\n",
       "    }\n",
       "\n",
       "    .dataframe tbody tr th {\n",
       "        vertical-align: top;\n",
       "    }\n",
       "\n",
       "    .dataframe thead th {\n",
       "        text-align: right;\n",
       "    }\n",
       "</style>\n",
       "<table border=\"1\" class=\"dataframe\">\n",
       "  <thead>\n",
       "    <tr style=\"text-align: right;\">\n",
       "      <th></th>\n",
       "      <th>isFraud</th>\n",
       "      <th>Scaled_step</th>\n",
       "      <th>Scaled_amount</th>\n",
       "      <th>Scaled_oldbalanceOrg</th>\n",
       "      <th>Scaled_newbalanceOrig</th>\n",
       "      <th>Scaled_oldbalanceDest</th>\n",
       "      <th>Scaled_newbalanceDest</th>\n",
       "    </tr>\n",
       "  </thead>\n",
       "  <tbody>\n",
       "    <tr>\n",
       "      <th>1030461</th>\n",
       "      <td>1</td>\n",
       "      <td>1.916667</td>\n",
       "      <td>10.020648</td>\n",
       "      <td>15.226886</td>\n",
       "      <td>0.000000</td>\n",
       "      <td>-0.137978</td>\n",
       "      <td>-0.189823</td>\n",
       "    </tr>\n",
       "    <tr>\n",
       "      <th>446705</th>\n",
       "      <td>0</td>\n",
       "      <td>-0.041667</td>\n",
       "      <td>0.061645</td>\n",
       "      <td>-0.117109</td>\n",
       "      <td>0.000000</td>\n",
       "      <td>0.340695</td>\n",
       "      <td>0.268688</td>\n",
       "    </tr>\n",
       "    <tr>\n",
       "      <th>489681</th>\n",
       "      <td>0</td>\n",
       "      <td>-0.041667</td>\n",
       "      <td>-0.375572</td>\n",
       "      <td>0.270993</td>\n",
       "      <td>0.300159</td>\n",
       "      <td>-0.137978</td>\n",
       "      <td>-0.189823</td>\n",
       "    </tr>\n",
       "    <tr>\n",
       "      <th>337782</th>\n",
       "      <td>0</td>\n",
       "      <td>-0.166667</td>\n",
       "      <td>0.420601</td>\n",
       "      <td>-0.005320</td>\n",
       "      <td>1.010406</td>\n",
       "      <td>0.193864</td>\n",
       "      <td>-0.065628</td>\n",
       "    </tr>\n",
       "    <tr>\n",
       "      <th>196776</th>\n",
       "      <td>1</td>\n",
       "      <td>-0.291667</td>\n",
       "      <td>19.573776</td>\n",
       "      <td>29.322353</td>\n",
       "      <td>0.000000</td>\n",
       "      <td>-0.050485</td>\n",
       "      <td>3.338760</td>\n",
       "    </tr>\n",
       "  </tbody>\n",
       "</table>\n",
       "</div>"
      ],
      "text/plain": [
       "         isFraud  Scaled_step  Scaled_amount  Scaled_oldbalanceOrg  \\\n",
       "1030461        1     1.916667      10.020648             15.226886   \n",
       "446705         0    -0.041667       0.061645             -0.117109   \n",
       "489681         0    -0.041667      -0.375572              0.270993   \n",
       "337782         0    -0.166667       0.420601             -0.005320   \n",
       "196776         1    -0.291667      19.573776             29.322353   \n",
       "\n",
       "         Scaled_newbalanceOrig  Scaled_oldbalanceDest  Scaled_newbalanceDest  \n",
       "1030461               0.000000              -0.137978              -0.189823  \n",
       "446705                0.000000               0.340695               0.268688  \n",
       "489681                0.300159              -0.137978              -0.189823  \n",
       "337782                1.010406               0.193864              -0.065628  \n",
       "196776                0.000000              -0.050485               3.338760  "
      ]
     },
     "execution_count": 32,
     "metadata": {},
     "output_type": "execute_result"
    }
   ],
   "source": [
    "new_df.head()"
   ]
  },
  {
   "cell_type": "code",
   "execution_count": 33,
   "id": "913a0b6d",
   "metadata": {
    "scrolled": false
   },
   "outputs": [
    {
     "name": "stdout",
     "output_type": "stream",
     "text": [
      "<class 'pandas.core.frame.DataFrame'>\n",
      "Int64Index: 2284 entries, 1030461 to 288377\n",
      "Data columns (total 7 columns):\n",
      " #   Column                 Non-Null Count  Dtype  \n",
      "---  ------                 --------------  -----  \n",
      " 0   isFraud                2284 non-null   int64  \n",
      " 1   Scaled_step            2284 non-null   float64\n",
      " 2   Scaled_amount          2284 non-null   float64\n",
      " 3   Scaled_oldbalanceOrg   2284 non-null   float64\n",
      " 4   Scaled_newbalanceOrig  2284 non-null   float64\n",
      " 5   Scaled_oldbalanceDest  2284 non-null   float64\n",
      " 6   Scaled_newbalanceDest  2284 non-null   float64\n",
      "dtypes: float64(6), int64(1)\n",
      "memory usage: 142.8 KB\n"
     ]
    }
   ],
   "source": [
    "new_df.info()"
   ]
  },
  {
   "cell_type": "code",
   "execution_count": 34,
   "id": "965e6ed1",
   "metadata": {},
   "outputs": [
    {
     "name": "stderr",
     "output_type": "stream",
     "text": [
      "C:\\Users\\IDOWU O K\\anaconda3\\lib\\site-packages\\seaborn\\_decorators.py:36: FutureWarning: Pass the following variable as a keyword arg: x. From version 0.12, the only valid positional argument will be `data`, and passing other arguments without an explicit keyword will result in an error or misinterpretation.\n",
      "  warnings.warn(\n"
     ]
    },
    {
     "data": {
      "image/png": "[encoded data removed]",
      "text/plain": [
       "<Figure size 432x288 with 1 Axes>"
      ]
     },
     "metadata": {
      "needs_background": "light"
     },
     "output_type": "display_data"
    }
   ],
   "source": [
    "sns.countplot('isFraud', data=new_df)\n",
    "plt.title('Equally Distributed Classes', fontsize=14)\n",
    "plt.show()"
   ]
  },
  {
   "cell_type": "code",
   "execution_count": 35,
   "id": "6e26acb4",
   "metadata": {},
   "outputs": [],
   "source": [
    "#Model Application\n",
    "#Simple and efficient tools for predictive data analysis\n",
    "from sklearn.model_selection import train_test_split\n",
    "from sklearn.ensemble import RandomForestClassifier\n",
    "from sklearn.metrics import classification_report\n",
    "from sklearn.metrics import confusion_matrix\n",
    "from sklearn.metrics import accuracy_score\n",
    "from sklearn.model_selection import StratifiedKFold\n",
    "\n",
    "from sklearn.linear_model import SGDClassifier\n",
    "from sklearn.neighbors import KNeighborsClassifier\n",
    "from sklearn.ensemble import RandomForestClassifier\n",
    "from sklearn.linear_model import LogisticRegression\n",
    "\n",
    "from sklearn.svm import LinearSVC, SVC\n",
    "from sklearn.naive_bayes import GaussianNB\n",
    "from sklearn.svm import SVC\n",
    "from sklearn.tree import DecisionTreeClassifier\n",
    "from sklearn.model_selection import cross_val_score\n",
    "from sklearn.metrics import roc_auc_score"
   ]
  },
  {
   "cell_type": "code",
   "execution_count": 37,
   "id": "9e3bb3bc",
   "metadata": {},
   "outputs": [],
   "source": [
    "#8 Machine learning  Algorithms will be applied to the dataset\n",
    "classifiers = [ \n",
    "               [RandomForestClassifier(),'Random Forest'],\n",
    "               [KNeighborsClassifier(), 'K-Nearest Neighbours'], \n",
    "               [SGDClassifier(),'SGD Classifier'], \n",
    "               [SVC(),'SVC'],\n",
    "               [GaussianNB(), \"Naive Bayes\"], \n",
    "               [DecisionTreeClassifier(random_state = 42), \"Decison tree\"],\n",
    "               [LogisticRegression(), 'Logistic Regression']\n",
    "              ]"
   ]
  },
  {
   "cell_type": "code",
   "execution_count": 38,
   "id": "c869bcb6",
   "metadata": {},
   "outputs": [],
   "source": [
    "df_1 = new_df.drop(\"isFraud\", axis=1)\n",
    "label = new_df[\"isFraud\"]"
   ]
  },
  {
   "cell_type": "code",
   "execution_count": 39,
   "id": "7a8c0ce5",
   "metadata": {},
   "outputs": [
    {
     "name": "stdout",
     "output_type": "stream",
     "text": [
      "\n",
      "\n",
      "\n",
      "\n",
      "\n",
      "\n"
     ]
    }
   ],
   "source": [
    "X_train, X_test, y_train, y_test = train_test_split(new_df, label, test_size=0.2)\n",
    "\n",
    "score_list = {}\n",
    "cross_val_list = {}\n",
    "roc_auc_list = {}\n",
    "accuracy_score_list = {}\n",
    "\n",
    "for classifier in classifiers:\n",
    "    model = classifier[0]\n",
    "    model.fit(X_train, y_train)\n",
    "    model_name = classifier[1]\n",
    "    \n",
    "    pred = model.predict(X_test)\n",
    "\n",
    "    score = model.score(X_test, y_test)\n",
    "    cross_val = cross_val_score(model, X_test, y_test).mean()\n",
    "    roc_auc = roc_auc_score(y_test, pred)\n",
    "    acuracy = accuracy_score(y_test, pred)\n",
    "    \n",
    "    score_list[model_name] = ([str(round(score*100, 2)) + '%'])\n",
    "    cross_val_list[model_name] = ([str(round(cross_val*100, 2)) + '%'])\n",
    "    roc_auc_list[model_name] = ([str(round(roc_auc*100, 2)) + '%'])\n",
    "    accuracy_score_list[model_name] = ([str(round(acuracy*100, 2)) + '%'])\n",
    "   \n",
    "    if model_name != classifiers[-1][1]:\n",
    "       print('')"
   ]
  },
  {
   "cell_type": "code",
   "execution_count": null,
   "id": "4b96015c",
   "metadata": {},
   "outputs": [],
   "source": []
  },
  {
   "cell_type": "code",
   "execution_count": 40,
   "id": "262efccd",
   "metadata": {},
   "outputs": [
    {
     "name": "stdout",
     "output_type": "stream",
     "text": [
      "Accuracy Score\n"
     ]
    },
    {
     "data": {
      "text/html": [
       "<div>\n",
       "<style scoped>\n",
       "    .dataframe tbody tr th:only-of-type {\n",
       "        vertical-align: middle;\n",
       "    }\n",
       "\n",
       "    .dataframe tbody tr th {\n",
       "        vertical-align: top;\n",
       "    }\n",
       "\n",
       "    .dataframe thead th {\n",
       "        text-align: right;\n",
       "    }\n",
       "</style>\n",
       "<table border=\"1\" class=\"dataframe\">\n",
       "  <thead>\n",
       "    <tr style=\"text-align: right;\">\n",
       "      <th></th>\n",
       "      <th>Random Forest</th>\n",
       "      <th>K-Nearest Neighbours</th>\n",
       "      <th>SGD Classifier</th>\n",
       "      <th>SVC</th>\n",
       "      <th>Naive Bayes</th>\n",
       "      <th>Decison tree</th>\n",
       "      <th>Logistic Regression</th>\n",
       "    </tr>\n",
       "  </thead>\n",
       "  <tbody>\n",
       "    <tr>\n",
       "      <th>0</th>\n",
       "      <td>100.0%</td>\n",
       "      <td>98.03%</td>\n",
       "      <td>100.0%</td>\n",
       "      <td>99.78%</td>\n",
       "      <td>100.0%</td>\n",
       "      <td>100.0%</td>\n",
       "      <td>99.78%</td>\n",
       "    </tr>\n",
       "  </tbody>\n",
       "</table>\n",
       "</div>"
      ],
      "text/plain": [
       "  Random Forest K-Nearest Neighbours SGD Classifier     SVC Naive Bayes  \\\n",
       "0        100.0%               98.03%         100.0%  99.78%      100.0%   \n",
       "\n",
       "  Decison tree Logistic Regression  \n",
       "0       100.0%              99.78%  "
      ]
     },
     "execution_count": 40,
     "metadata": {},
     "output_type": "execute_result"
    }
   ],
   "source": [
    "print(\"Accuracy Score\")\n",
    "sl = pd.DataFrame(score_list)\n",
    "sl.head()"
   ]
  },
  {
   "cell_type": "code",
   "execution_count": 41,
   "id": "f6bb969e",
   "metadata": {},
   "outputs": [
    {
     "name": "stdout",
     "output_type": "stream",
     "text": [
      "Cross Validation\n"
     ]
    },
    {
     "data": {
      "text/html": [
       "<div>\n",
       "<style scoped>\n",
       "    .dataframe tbody tr th:only-of-type {\n",
       "        vertical-align: middle;\n",
       "    }\n",
       "\n",
       "    .dataframe tbody tr th {\n",
       "        vertical-align: top;\n",
       "    }\n",
       "\n",
       "    .dataframe thead th {\n",
       "        text-align: right;\n",
       "    }\n",
       "</style>\n",
       "<table border=\"1\" class=\"dataframe\">\n",
       "  <thead>\n",
       "    <tr style=\"text-align: right;\">\n",
       "      <th></th>\n",
       "      <th>Random Forest</th>\n",
       "      <th>K-Nearest Neighbours</th>\n",
       "      <th>SGD Classifier</th>\n",
       "      <th>SVC</th>\n",
       "      <th>Naive Bayes</th>\n",
       "      <th>Decison tree</th>\n",
       "      <th>Logistic Regression</th>\n",
       "    </tr>\n",
       "  </thead>\n",
       "  <tbody>\n",
       "    <tr>\n",
       "      <th>0</th>\n",
       "      <td>100.0%</td>\n",
       "      <td>94.97%</td>\n",
       "      <td>98.03%</td>\n",
       "      <td>82.05%</td>\n",
       "      <td>100.0%</td>\n",
       "      <td>100.0%</td>\n",
       "      <td>100.0%</td>\n",
       "    </tr>\n",
       "  </tbody>\n",
       "</table>\n",
       "</div>"
      ],
      "text/plain": [
       "  Random Forest K-Nearest Neighbours SGD Classifier     SVC Naive Bayes  \\\n",
       "0        100.0%               94.97%         98.03%  82.05%      100.0%   \n",
       "\n",
       "  Decison tree Logistic Regression  \n",
       "0       100.0%              100.0%  "
      ]
     },
     "execution_count": 41,
     "metadata": {},
     "output_type": "execute_result"
    }
   ],
   "source": [
    "print(\"Cross Validation\")\n",
    "sl = pd.DataFrame(cross_val_list)\n",
    "sl.head()"
   ]
  },
  {
   "cell_type": "code",
   "execution_count": 42,
   "id": "4af825e0",
   "metadata": {},
   "outputs": [
    {
     "name": "stdout",
     "output_type": "stream",
     "text": [
      "roc_auc_list\n"
     ]
    },
    {
     "data": {
      "text/html": [
       "<div>\n",
       "<style scoped>\n",
       "    .dataframe tbody tr th:only-of-type {\n",
       "        vertical-align: middle;\n",
       "    }\n",
       "\n",
       "    .dataframe tbody tr th {\n",
       "        vertical-align: top;\n",
       "    }\n",
       "\n",
       "    .dataframe thead th {\n",
       "        text-align: right;\n",
       "    }\n",
       "</style>\n",
       "<table border=\"1\" class=\"dataframe\">\n",
       "  <thead>\n",
       "    <tr style=\"text-align: right;\">\n",
       "      <th></th>\n",
       "      <th>Random Forest</th>\n",
       "      <th>K-Nearest Neighbours</th>\n",
       "      <th>SGD Classifier</th>\n",
       "      <th>SVC</th>\n",
       "      <th>Naive Bayes</th>\n",
       "      <th>Decison tree</th>\n",
       "      <th>Logistic Regression</th>\n",
       "    </tr>\n",
       "  </thead>\n",
       "  <tbody>\n",
       "    <tr>\n",
       "      <th>0</th>\n",
       "      <td>100.0%</td>\n",
       "      <td>98.05%</td>\n",
       "      <td>100.0%</td>\n",
       "      <td>99.78%</td>\n",
       "      <td>100.0%</td>\n",
       "      <td>100.0%</td>\n",
       "      <td>99.78%</td>\n",
       "    </tr>\n",
       "  </tbody>\n",
       "</table>\n",
       "</div>"
      ],
      "text/plain": [
       "  Random Forest K-Nearest Neighbours SGD Classifier     SVC Naive Bayes  \\\n",
       "0        100.0%               98.05%         100.0%  99.78%      100.0%   \n",
       "\n",
       "  Decison tree Logistic Regression  \n",
       "0       100.0%              99.78%  "
      ]
     },
     "execution_count": 42,
     "metadata": {},
     "output_type": "execute_result"
    }
   ],
   "source": [
    "print(\"roc_auc_list\")\n",
    "sl = pd.DataFrame(roc_auc_list)\n",
    "sl.head()"
   ]
  },
  {
   "cell_type": "markdown",
   "id": "2b272719",
   "metadata": {},
   "source": [
    " ### Accuracy score  examines how well how trained dataset is able to predict true positives and true negatives, it is important  for our model to be able to spot fraud 100 percent of the time \n",
    " \n",
    " ### cross validation across the 4 models is 100% , which proves that our model is not overfitted or under fitted accross the data set \n",
    " \n",
    " \n",
    " ### The ROC AUC score  helps us to compare ground truth to predicted probabilities , some the model examine gave us 100 percent when examine , personally siince we have model that have done a 100 percent across the three validation techniques , i will go for any of the four model\n",
    " \n",
    " ### Based on the nature of th institution , i will suggest that model should be more concerned with limiting false negatives that is fraud that go undetected , rather than false positives \n",
    "  \n",
    " \n",
    " "
   ]
  },
  {
   "cell_type": "code",
   "execution_count": null,
   "id": "9ffe9676",
   "metadata": {},
   "outputs": [],
   "source": []
  }
 ],
 "metadata": {
  "kernelspec": {
   "display_name": "Python 3 (ipykernel)",
   "language": "python",
   "name": "python3"
  },
  "language_info": {
   "codemirror_mode": {
    "name": "ipython",
    "version": 3
   },
   "file_extension": ".py",
   "mimetype": "text/x-python",
   "name": "python",
   "nbconvert_exporter": "python",
   "pygments_lexer": "ipython3",
   "version": "3.9.7"
  }
 },
 "nbformat": 4,
 "nbformat_minor": 5
}
